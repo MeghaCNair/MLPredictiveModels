{
 "cells": [
  {
   "cell_type": "code",
   "execution_count": null,
   "id": "301a5f81-63d9-4075-bae7-1c702991cbde",
   "metadata": {},
   "outputs": [],
   "source": [
    "import pandas as pd\n",
    "import numpy as np\n",
    "import warnings\n",
    "warnings.filterwarnings(\"ignore\")\n",
    "warnings.filterwarnings(\"ignore\", category=UserWarning, module='h2o')\n",
    "import pandas.api.types as ptypes\n",
    "import pickle\n",
    "from copy import deepcopy\n",
    "import h2o"
   ]
  },
  {
   "cell_type": "code",
   "execution_count": null,
   "id": "a1623d3c-7c45-49b0-b3c6-53eb6350fae7",
   "metadata": {},
   "outputs": [],
   "source": [
    "def Project_1_Scoring(testdata):\n",
    "    holdoutset = testdata.copy()\n",
    "    artifacts_dict_file = open(\"../artifacts/artifacts_dict_file.pkl\", \"rb\")\n",
    "    artifacts_dict = pickle.load(file=artifacts_dict_file)\n",
    "    artifacts_dict_file.close()\n",
    "    artifacts_functions_file = open(\"../artifacts/artifacts_functions_file.pkl\", \"rb\")\n",
    "    artifacts_functions = pickle.load(file=artifacts_functions_file)\n",
    "    artifacts_functions_file.close()\n",
    "    exec(artifacts_functions[\"get_naics\"], globals())\n",
    "    exec(artifacts_functions[\"fillMissingValues\"], globals())\n",
    "    exec(artifacts_functions[\"data_clean_preprocess\"], globals())\n",
    "    exec(artifacts_functions[\"create_engineered_features\"], globals())\n",
    "    data_clean_preprocess(holdoutset)\n",
    "    create_engineered_features(holdoutset,artifacts_dict)\n",
    "    h2o.init(max_mem_size = \"4G\",nthreads=4)            \n",
    "    h2o.remove_all() \n",
    "    h2o_hold = h2o.H2OFrame(holdoutset)\n",
    "    h2o_hold[artifacts_dict[\"CategoricalColumns\"]] = h2o_hold[artifacts_dict[\"CategoricalColumns\"]].asfactor()\n",
    "    saved_model = h2o.load_model('../'+artifacts_dict[\"ModelPath\"])\n",
    "    predictions = saved_model.predict(h2o_hold)\n",
    "    pred_df = predictions.as_data_frame()\n",
    "    output_df = pd.DataFrame()\n",
    "    output_df['index']= holdoutset[['index']]\n",
    "    output_df['label'] = (pred_df['p1'] > artifacts_dict[\"threshold\"]).astype(int) # Converting predictions to integer labels\n",
    "    output_df['probability_0'] = pred_df['p0']\n",
    "    output_df['probability_1'] = pred_df['p1']\n",
    "    return output_df"
   ]
  },
  {
   "cell_type": "code",
   "execution_count": null,
   "id": "87a2ee21-152a-4964-8df5-40998ff3b3bc",
   "metadata": {},
   "outputs": [],
   "source": [
    "testdata = pd.read_csv(\"../SBA_loans_project_1_holdout_students_valid(1).csv\")\n",
    "scoreddata = Project_1_Scoring(testdata)\n",
    "scoreddata.head()"
   ]
  },
  {
   "cell_type": "code",
   "execution_count": null,
   "id": "7dba2e7b-4381-44d3-b112-6b8d3c3577b5",
   "metadata": {},
   "outputs": [],
   "source": []
  },
  {
   "cell_type": "code",
   "execution_count": null,
   "id": "da75ff03-06c1-4f05-9dc5-2ee7f4422f01",
   "metadata": {},
   "outputs": [],
   "source": []
  }
 ],
 "metadata": {
  "kernelspec": {
   "display_name": "Python 3 (ipykernel)",
   "language": "python",
   "name": "python3"
  },
  "language_info": {
   "codemirror_mode": {
    "name": "ipython",
    "version": 3
   },
   "file_extension": ".py",
   "mimetype": "text/x-python",
   "name": "python",
   "nbconvert_exporter": "python",
   "pygments_lexer": "ipython3",
   "version": "3.10.11"
  },
  "widgets": {
   "application/vnd.jupyter.widget-state+json": {
    "state": {},
    "version_major": 2,
    "version_minor": 0
   }
  }
 },
 "nbformat": 4,
 "nbformat_minor": 5
}
